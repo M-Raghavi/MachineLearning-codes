{
  "nbformat": 4,
  "nbformat_minor": 0,
  "metadata": {
    "colab": {
      "provenance": [],
      "authorship_tag": "ABX9TyPj1oDSPX1ukdCMf2f0wklt",
      "include_colab_link": true
    },
    "kernelspec": {
      "name": "python3",
      "display_name": "Python 3"
    },
    "language_info": {
      "name": "python"
    }
  },
  "cells": [
    {
      "cell_type": "markdown",
      "metadata": {
        "id": "view-in-github",
        "colab_type": "text"
      },
      "source": [
        "<a href=\"https://colab.research.google.com/github/M-Raghavi/MachineLearning-codes/blob/main/DLEXP04_activation_function.ipynb\" target=\"_parent\"><img src=\"https://colab.research.google.com/assets/colab-badge.svg\" alt=\"Open In Colab\"/></a>"
      ]
    },
    {
      "cell_type": "markdown",
      "source": [],
      "metadata": {
        "id": "hoeohnbw_adT"
      }
    },
    {
      "cell_type": "markdown",
      "source": [
        "#EXO-04 ACTIVATION FUNCTION"
      ],
      "metadata": {
        "id": "6FfcA75H_bSL"
      }
    },
    {
      "cell_type": "code",
      "execution_count": null,
      "metadata": {
        "colab": {
          "base_uri": "https://localhost:8080/"
        },
        "id": "ZBHYMQqn_SRP",
        "outputId": "116789de-0151-4f82-de3d-b117d4fbbe49"
      },
      "outputs": [
        {
          "output_type": "stream",
          "name": "stdout",
          "text": [
            "[2 3]\n"
          ]
        }
      ],
      "source": [
        "#input layer\n",
        "import numpy as np\n",
        "x0,x1=[2,3]\n",
        "input_layer=np.array([x0,x1])\n",
        "print(input_layer)"
      ]
    },
    {
      "cell_type": "code",
      "source": [
        "weights={'x2':np.array([1,1]),\n",
        "         'x3':np.array([1,-1]),\n",
        "         'x4':np.array([1,-1]),\n",
        "         'x5':np.array([-1,1]),\n",
        "         'x6':np.array([2,1])}\n",
        "print(weights)"
      ],
      "metadata": {
        "colab": {
          "base_uri": "https://localhost:8080/"
        },
        "id": "Dh0uN1sk_iAd",
        "outputId": "16b39102-5fc7-494a-95ce-92c5d286731f"
      },
      "execution_count": null,
      "outputs": [
        {
          "output_type": "stream",
          "name": "stdout",
          "text": [
            "{'x2': array([1, 1]), 'x3': array([ 1, -1]), 'x4': array([ 1, -1]), 'x5': array([-1,  1]), 'x6': array([2, 1])}\n"
          ]
        }
      ]
    },
    {
      "cell_type": "code",
      "source": [
        "def relu(x):\n",
        "  return max(0,x)"
      ],
      "metadata": {
        "id": "1tw12roS_qd5"
      },
      "execution_count": null,
      "outputs": []
    },
    {
      "cell_type": "code",
      "source": [
        "def sigmoid(x):\n",
        "  s=1/(1+np.exp(-x))\n",
        "  return(s)"
      ],
      "metadata": {
        "id": "9ny_F42q_zJR"
      },
      "execution_count": null,
      "outputs": []
    },
    {
      "cell_type": "code",
      "source": [
        "#Hidden layer\n",
        "x2=np.dot(input_layer,weights['x2'])\n",
        "x3=np.dot(input_layer,weights['x3'])\n",
        "print([x2,x3])\n",
        "x2=relu(x2)\n",
        "x3=relu(x3)\n",
        "hidden_layer_1=np.array([x2,x3])\n",
        "print(hidden_layer_1)"
      ],
      "metadata": {
        "colab": {
          "base_uri": "https://localhost:8080/"
        },
        "id": "ituh7LiV_zMa",
        "outputId": "5f3e65c0-46c5-4a9e-c86b-0e86c4a7c311"
      },
      "execution_count": null,
      "outputs": [
        {
          "output_type": "stream",
          "name": "stdout",
          "text": [
            "[5, -1]\n",
            "[5 0]\n"
          ]
        }
      ]
    },
    {
      "cell_type": "code",
      "source": [
        "#hidden layer 2\n",
        "x4=np.dot(hidden_layer_1,weights['x4'])\n",
        "x5=np.dot(hidden_layer_1,weights['x5'])\n",
        "print([x4,x5])\n",
        "x4=relu(x4)\n",
        "x5=relu(x5)\n",
        "hidden_layer_2=np.array([x4,x5])\n",
        "print(hidden_layer_2)"
      ],
      "metadata": {
        "colab": {
          "base_uri": "https://localhost:8080/"
        },
        "id": "2YPQ7aZIAAuI",
        "outputId": "59c9c3bf-9e4e-43cf-8333-0005bccae15d"
      },
      "execution_count": null,
      "outputs": [
        {
          "output_type": "stream",
          "name": "stdout",
          "text": [
            "[5, -5]\n",
            "[5 0]\n"
          ]
        }
      ]
    },
    {
      "cell_type": "code",
      "source": [
        "#output layer\n",
        "x6=np.dot(hidden_layer_2,weights['x6'])\n",
        "print(x6)\n",
        "outpoutputut_layer=sigmoid(x6)\n",
        "print(output_layer)"
      ],
      "metadata": {
        "colab": {
          "base_uri": "https://localhost:8080/"
        },
        "id": "-Hula024AazW",
        "outputId": "abf727c3-3bd5-4e93-c76c-a5564b00f4a8"
      },
      "execution_count": null,
      "outputs": [
        {
          "output_type": "stream",
          "name": "stdout",
          "text": [
            "10\n",
            "0.9999546021312976\n"
          ]
        }
      ]
    }
  ]
}